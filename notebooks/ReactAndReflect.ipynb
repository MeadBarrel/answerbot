{
 "cells": [
  {
   "cell_type": "code",
   "execution_count": 1,
   "id": "99e9b609-81ee-4402-a59e-23ccb499c5f1",
   "metadata": {},
   "outputs": [],
   "source": [
    "import os\n",
    "os.chdir('..')\n",
    "\n",
    "import json\n",
    "import openai\n",
    "import logging\n",
    "\n",
    "from answerbot.get_wikipedia import WikipediaApi\n",
    "from answerbot.prompt_builder import FunctionalPrompt, Assistant, FunctionCall, FunctionResult, System\n",
    "from answerbot.react_prompt import FunctionalReactPrompt, NewFunctionalReactPrompt, TextReactPrompt, Question\n",
    "from answerbot.toolbox import WikipediaSearch\n",
    "from answerbot.react import LLMReactor \n",
    "\n",
    "logging.basicConfig(level=logging.INFO)\n",
    "logger = logging.getLogger(__name__)\n",
    "\n",
    "with open(\"config.json\", \"r\") as f:\n",
    "    json_config = json.load(f)\n",
    "openai.api_key = json_config[\"api_key\"]\n",
    "\n",
    "\n",
    "system_prompt = \"please answer the following question. you can use wikipedia for reference - but think carefully about what pages exist at wikipedia.\"\n",
    "system_prompt = \"\"\"Please answer the following question. You can use wikipedia for reference - but think carefully about what pages exist at wikipedia.\n",
    "When you look for a property of something or someone - search for that something page instead of using that property in the search.\n",
    "When you receive information from wikipedia check what useful informatiou have you found and what else do you need.\n",
    "When you know the answer call finish. Please make the answer as short as possible. If it can be answered with yes or no that is best.\n",
    "Remove all explanations from the answer and put them into the thought field.\n",
    "The search function automatically retrieves the first search result and presents a short fragment from it. It is formatted in Markdown.\n",
    "\"\"\"\n",
    "#The pages are formated in Markdown - when looking up a section of an article lookup '##Section Name', when lookup up a word - just lookup 'word'.\n",
    "\n",
    "\n",
    "#question = \"What year did Guns N Roses perform a promo for a movie starring Arnold Schwarzenegger as a former New York Police detective?\"\n",
    "question = \"What is the weight proportion of oxygen in water?\"\n",
    "#question = \"The arena where the Lewiston Maineiacs played their home games can seat how many people?\"\n",
    "#question = \"What is the name of the fight song of the university whose main campus is in Lawrence, Kansas and whose branch campuses are in the Kansas City metropolitan area?\"\n",
    "#question = \"When Poland became elective monarchy?\"\n",
    "\n",
    "prompt = FunctionalPrompt([System(system_prompt), Question(question)])\n",
    "summarize_prompt = System(\"Reflect on the received information and plan next steps.\")\n",
    "  \n",
    "wiki_api = WikipediaApi(max_retries=3, chunk_size=400)\n",
    "toolbox = WikipediaSearch(wiki_api)\n",
    "model = 'gpt-4-1106-preview'\n",
    "\n",
    "reactor = LLMReactor(model, toolbox, prompt, summarize_prompt, 7)\n"
   ]
  },
  {
   "cell_type": "code",
   "execution_count": 3,
   "id": "63af6655-e68b-4348-aa2d-352dc242da92",
   "metadata": {},
   "outputs": [
    {
     "name": "stdout",
     "output_type": "stream",
     "text": [
      ">>>LLM call number: 1\n"
     ]
    },
    {
     "name": "stderr",
     "output_type": "stream",
     "text": [
      "INFO:answerbot.react:FunctionCall('get', 'To find the molecular weight of water and atomic weights of hydrogen and oxygen to calculate the weight proportion of oxygen in water.', title='Properties_of_water')\n",
      "INFO:answerbot.react:FunctionResult('get', 'Successfully retrieved \\'Properties_of_water\\' from Wikipedia.\\nThe retrieved page contains the following sections:\\n## Physical properties\\n### Water, ice, and vapor\\n#### Heat capacity and heats of vaporization and fusion\\n#### Density of water and ice\\n#### Density of saltwater and ice\\n#### Miscibility and condensation\\n#### Vapor pressure\\n#### Compressibility\\n#### Triple point\\n#### Melting point\\n### Electrical properties\\n#### Electrical conductivity\\n### Polarity and hydrogen bonding\\n#### Cohesion and adhesion\\n#### Surface tension\\n#### Capillary action\\n#### Water as a solvent\\n#### Quantum tunneling\\n### Electromagnetic absorption\\n## Structure\\n### Molecular structure\\n## Chemical properties\\n### Self-ionization\\n### Geochemistry\\n### Acidity in nature\\n## Isotopologues\\n## Occurrence\\n## Reactions\\n### Acid-base reactions\\n### Ligand chemistry\\n### Organic chemistry\\n### Water in redox reactions\\n### Electrolysis\\n## History\\n## Nomenclature\\n## See also\\n## Footnotes\\n## References\\n### Notes\\n### Bibliography\\n## Further reading\\n## External links\\nThe retrieved page summary starts with:\\nPhysical and chemical properties of pure water\\n\\n\"HOH\" redirects here.For other uses, see [HOH (disambiguation)](/wiki/HOH_\\\\(disambiguation\\\\) \"HOH \\\\(disambiguation\\\\)\"). For broader coverage of this topic, see [Water](/wiki/Water \"Water\").\\n')\n",
      "INFO:answerbot.react:System('Reflect on the received information and plan next steps.')\n",
      "INFO:answerbot.react:Assistant('I need to specifically find the molecular and atomic weights within the \"Properties of water\" page to calculate the weight proportion of oxygen in water. So, I will look up \\'molecular structure\\' within this page, as this section is likely to contain the relevant atomic and molecular weight information.')\n"
     ]
    }
   ],
   "source": [
    "print(f\">>>LLM call number: {reactor.step}\")\n",
    "reactor.process_prompt()"
   ]
  },
  {
   "cell_type": "code",
   "execution_count": 4,
   "id": "a7687449-e8a8-458d-8dae-8a6a7e59030e",
   "metadata": {},
   "outputs": [
    {
     "name": "stdout",
     "output_type": "stream",
     "text": [
      ">>>LLM call number: 2\n"
     ]
    },
    {
     "name": "stderr",
     "output_type": "stream",
     "text": [
      "INFO:answerbot.react:FunctionCall('lookup', 'To find the atomic weights of hydrogen and oxygen and the molecular weight of water to calculate the weight proportion of oxygen in water.', keyword='molecular structure')\n",
      "INFO:answerbot.react:FunctionResult('lookup', 'Keyword \"molecular structure\" found  in: \\n### Molecular structure\\n\\nSee also: [Molecular orbital diagram § Water](/wiki/Molecular_orbital_diagram#Water \"Molecular orbital diagram\")\\n\\nThe repulsive effects of the two lone pairs on the oxygen atom cause water to have a [bent](/wiki/Bent_\\\\(chemistry\\\\) \"Bent \\\\(chemistry\\\\)\"), not [linear](/wiki/Linear_molecular_geometry \"Linear molecular geometry\"), molecular structure,[74] allowing it to be polar. The hydrogen–oxygen')\n",
      "INFO:answerbot.react:System('Reflect on the received information and plan next steps.')\n",
      "INFO:answerbot.react:Assistant(\"The information provided does not give the specific atomic and molecular weights needed to calculate the weight proportion of oxygen in water. I will search the page for 'atomic weight' or 'molecular weight' to find the required information.\")\n"
     ]
    }
   ],
   "source": [
    "print(f\">>>LLM call number: {reactor.step}\")\n",
    "reactor.process_prompt()"
   ]
  },
  {
   "cell_type": "code",
   "execution_count": null,
   "id": "e954b37c-1df3-402b-8477-83ea8c2f31ca",
   "metadata": {},
   "outputs": [],
   "source": []
  }
 ],
 "metadata": {
  "kernelspec": {
   "display_name": "Python 3 (ipykernel)",
   "language": "python",
   "name": "python3"
  },
  "language_info": {
   "codemirror_mode": {
    "name": "ipython",
    "version": 3
   },
   "file_extension": ".py",
   "mimetype": "text/x-python",
   "name": "python",
   "nbconvert_exporter": "python",
   "pygments_lexer": "ipython3",
   "version": "3.10.12"
  }
 },
 "nbformat": 4,
 "nbformat_minor": 5
}
