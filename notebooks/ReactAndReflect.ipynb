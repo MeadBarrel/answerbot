{
 "cells": [
  {
   "cell_type": "code",
   "execution_count": 1,
   "id": "99e9b609-81ee-4402-a59e-23ccb499c5f1",
   "metadata": {},
   "outputs": [],
   "source": [
    "import os\n",
    "os.chdir('..')\n",
    "\n",
    "import json\n",
    "import openai\n",
    "import logging\n",
    "\n",
    "from answerbot.get_wikipedia import WikipediaApi\n",
    "from answerbot.prompt_builder import FunctionalPrompt, Assistant, FunctionCall, FunctionResult, System\n",
    "from answerbot.react_prompt import FunctionalReactPrompt, NewFunctionalReactPrompt, TextReactPrompt, Question\n",
    "from answerbot.toolbox import WikipediaSearch\n",
    "from answerbot.react import LLMReactor \n",
    "\n",
    "logging.basicConfig(level=logging.INFO)\n",
    "logger = logging.getLogger(__name__)\n",
    "\n",
    "with open(\"config.json\", \"r\") as f:\n",
    "    json_config = json.load(f)\n",
    "openai.api_key = json_config[\"api_key\"]\n",
    "\n",
    "\n",
    "system_prompt = \"please answer the following question. you can use wikipedia for reference - but think carefully about what pages exist at wikipedia.\"\n",
    "system_prompt = \"\"\"Please answer the following question. You can use wikipedia for reference - but think carefully about what pages exist at wikipedia.\n",
    "When you look for a property of something or someone - search for that something page instead of using that property in the search.\n",
    "When you receive information from wikipedia check what useful informatiou have you found and what else do you need.\n",
    "When you know the answer call finish. Please make the answer as short as possible. If it can be answered with yes or no that is best.\n",
    "Remove all explanations from the answer and put them into the thought field.\n",
    "The search function automatically retrieves the first search result and presents a short fragment from it. It is formatted in Markdown.\n",
    "\"\"\"\n",
    "#The pages are formated in Markdown - when looking up a section of an article lookup '##Section Name', when lookup up a word - just lookup 'word'.\n",
    "\n",
    "\n",
    "#question = \"What year did Guns N Roses perform a promo for a movie starring Arnold Schwarzenegger as a former New York Police detective?\"\n",
    "question = \"What is the weight proportion of oxygen in water?\"\n",
    "#question = \"The arena where the Lewiston Maineiacs played their home games can seat how many people?\"\n",
    "#question = \"What is the name of the fight song of the university whose main campus is in Lawrence, Kansas and whose branch campuses are in the Kansas City metropolitan area?\"\n",
    "#question = \"When Poland became elective monarchy?\"\n",
    "\n",
    "prompt = FunctionalPrompt([System(system_prompt), Question(question)])\n",
    "reflection_prompt = System(\"Reflect on the received information and plan next steps.\")\n",
    "last_reflection = System(\"In the next call you need to formulate an answer - please reflect on the received information.\")\n",
    "  \n",
    "wiki_api = WikipediaApi(max_retries=3, chunk_size=400)\n",
    "toolbox = WikipediaSearch(wiki_api)\n",
    "model = 'gpt-4-1106-preview'\n",
    "max_llm_calls = 7\n",
    "\n",
    "reactor = LLMReactor(model, toolbox, prompt, reflection_prompt, last_reflection, max_llm_calls)\n"
   ]
  },
  {
   "cell_type": "code",
   "execution_count": 2,
   "id": "63af6655-e68b-4348-aa2d-352dc242da92",
   "metadata": {},
   "outputs": [
    {
     "name": "stdout",
     "output_type": "stream",
     "text": [
      ">>>LLM call number: 0\n"
     ]
    },
    {
     "name": "stderr",
     "output_type": "stream",
     "text": [
      "INFO:answerbot.react:FunctionCall('search', 'To find the weight proportion of oxygen in water, I need to search for the properties of water.', query='Properties of water')\n",
      "INFO:answerbot.react:FunctionResult('search', 'Wikipedia search results for query: \\'Properties of water\\' are: [[Properties of water]], [[Water]], [[Optical properties of water and ice]], [[Heavy water]], [[Water (data page)]], [[Saline water]], [[John Harvey Kellogg]], [[Water (disambiguation)]], [[Optical properties]], [[Ice]]\\nSuccessfully retrieved \\'Properties of water\\' from Wikipedia.\\nThe retrieved page contains the following sections:\\n## Physical properties\\n### Water, ice, and vapor\\n#### Heat capacity and heats of vaporization and fusion\\n#### Density of water and ice\\n#### Density of saltwater and ice\\n#### Miscibility and condensation\\n#### Vapor pressure\\n#### Compressibility\\n#### Triple point\\n#### Melting point\\n### Electrical properties\\n#### Electrical conductivity\\n### Polarity and hydrogen bonding\\n#### Cohesion and adhesion\\n#### Surface tension\\n#### Capillary action\\n#### Water as a solvent\\n#### Quantum tunneling\\n### Electromagnetic absorption\\n## Structure\\n### Molecular structure\\n## Chemical properties\\n### Self-ionization\\n### Geochemistry\\n### Acidity in nature\\n## Isotopologues\\n## Occurrence\\n## Reactions\\n### Acid-base reactions\\n### Ligand chemistry\\n### Organic chemistry\\n### Water in redox reactions\\n### Electrolysis\\n## History\\n## Nomenclature\\n## See also\\n## Footnotes\\n## References\\n### Notes\\n### Bibliography\\n## Further reading\\n## External links\\nThe retrieved page summary starts with:\\nPhysical and chemical properties of pure water\\n\\n\"HOH\" redirects here.For other uses, see [HOH (disambiguation)](/wiki/HOH_\\\\(disambiguation\\\\) \"HOH \\\\(disambiguation\\\\)\"). For broader coverage of this topic, see [Water](/wiki/Water \"Water\").\\n')\n",
      "INFO:answerbot.react:System('Reflect on the received information and plan next steps.')\n",
      "INFO:answerbot.react:Assistant('I will need to check the section about molecular structure because that should contain information about the composition of water, including the weight proportion of oxygen. This information is not immediately visible in the summary or the section titles provided, so I need to delve deeper into the content of the page.')\n"
     ]
    }
   ],
   "source": [
    "print(f\">>>LLM call number: {reactor.step}\")\n",
    "reactor.process_prompt()"
   ]
  },
  {
   "cell_type": "code",
   "execution_count": 3,
   "id": "a7687449-e8a8-458d-8dae-8a6a7e59030e",
   "metadata": {},
   "outputs": [
    {
     "name": "stdout",
     "output_type": "stream",
     "text": [
      ">>>LLM call number: 1\n"
     ]
    },
    {
     "name": "stderr",
     "output_type": "stream",
     "text": [
      "INFO:answerbot.react:FunctionCall('lookup', 'To determine the weight proportion of oxygen in water, I need information on the molecular structure of water.', keyword='Molecular structure')\n",
      "INFO:answerbot.react:FunctionResult('lookup', 'Keyword \"Molecular structure\" found  in: \\n### Molecular structure\\n\\nSee also: [Molecular orbital diagram § Water](/wiki/Molecular_orbital_diagram#Water \"Molecular orbital diagram\")\\n\\nThe repulsive effects of the two lone pairs on the oxygen atom cause water to have a [bent](/wiki/Bent_\\\\(chemistry\\\\) \"Bent \\\\(chemistry\\\\)\"), not [linear](/wiki/Linear_molecular_geometry \"Linear molecular geometry\"), molecular structure,[74] allowing it to be polar. The hydrogen–oxygen')\n",
      "INFO:answerbot.react:System('Reflect on the received information and plan next steps.')\n",
      "INFO:answerbot.react:Assistant('The information about the molecular structure does not include the weight proportion of oxygen in water. I will need to directly check for the atomic weights of hydrogen and oxygen to calculate the proportion myself. Water (H2O) is composed of two hydrogen atoms and one oxygen atom. I will search for the atomic weight of hydrogen and then the atomic weight of oxygen to calculate the weight proportion of oxygen in water.')\n"
     ]
    }
   ],
   "source": [
    "print(f\">>>LLM call number: {reactor.step}\")\n",
    "reactor.process_prompt()"
   ]
  },
  {
   "cell_type": "code",
   "execution_count": 4,
   "id": "123d7a22-fb08-4e2e-91d4-8c2715f25ae3",
   "metadata": {},
   "outputs": [
    {
     "name": "stdout",
     "output_type": "stream",
     "text": [
      ">>>LLM call number: 2\n"
     ]
    },
    {
     "name": "stderr",
     "output_type": "stream",
     "text": [
      "INFO:answerbot.react:FunctionCall('search', 'To find the atomic weight of hydrogen to calculate the weight proportion of oxygen in water.', query='Atomic weight of hydrogen')\n",
      "INFO:answerbot.react:FunctionResult('search', 'Wikipedia search results for query: \\'Atomic weight of hydrogen\\' are: [[Equivalent weight]], [[Isotopes of hydrogen]], [[Atomic number]], [[Prout\\'s hypothesis]], [[Standard atomic weight]], [[Atomic mass]], [[Commission on Isotopic Abundances and Atomic Weights]], [[Atomic theory]], [[Molar mass]], [[Hydrogen]]\\nSuccessfully retrieved \\'Equivalent weight\\' from Wikipedia.\\nThe retrieved page contains the following sections:\\n## In history\\n## Use in general chemistry\\n## Use in volumetric analysis\\n## Use in gravimetric analysis\\n## Use in polymer chemistry\\n## References\\nThe retrieved page summary starts with:\\nMass of a given substance which will combine with or displace a fixed quantity of another substance\\n\\nIn [chemistry](/wiki/Chemistry \"Chemistry\"), **equivalent weight** (also known as _gram equivalent_[1] or _equivalent mass_ ) is the [mass](/wiki/Mass \"Mass\") of one [equivalent](/wiki/Equivalent_\\\\(chemistry\\\\) \"Equivalent \\\\(chemistry\\\\)\"), that is the mass of a given substance which will combine wit\\n')\n",
      "INFO:answerbot.react:System('Reflect on the received information and plan next steps.')\n",
      "INFO:answerbot.react:Assistant('The page \"Equivalent weight\" does not provide the atomic weight of hydrogen directly. I should instead search for the page specific to hydrogen to find its atomic weight.')\n"
     ]
    }
   ],
   "source": [
    "print(f\">>>LLM call number: {reactor.step}\")\n",
    "reactor.process_prompt()"
   ]
  },
  {
   "cell_type": "code",
   "execution_count": 5,
   "id": "b545952b-8ad2-4627-91ec-44d57d4483fd",
   "metadata": {},
   "outputs": [
    {
     "name": "stdout",
     "output_type": "stream",
     "text": [
      ">>>LLM call number: 3\n"
     ]
    },
    {
     "name": "stderr",
     "output_type": "stream",
     "text": [
      "INFO:answerbot.react:FunctionCall('get', 'Retrieving the hydrogen page to find the atomic weight of hydrogen.', title='Hydrogen')\n",
      "INFO:answerbot.react:FunctionResult('get', 'Successfully retrieved \\'Hydrogen\\' from Wikipedia.\\nThe retrieved page contains the following sections:\\n## Properties\\n### Combustion\\n#### Flame\\n#### Reactants\\n### Electron energy levels\\n### Spin isomers\\n### Phases\\n### Compounds\\n#### Covalent and organic compounds\\n#### Hydrides\\n#### Protons and acids\\n### Isotopes\\n### Thermal and physical properties\\n## History\\n### Discovery and use\\n### Role in quantum theory\\n## Cosmic prevalence and distribution\\n### States\\n## Production\\n### Steam reforming\\n### Partial oxidation of hydrocarbons\\n### Water electrolysis\\n### Methane pyrolysis\\n### Thermochemical\\n### Laboratory methods\\n### Biohydrogen\\n## Applications\\n### Petrochemical industry\\n### Hydrogenation\\n### Coolant\\n### Energy carrier\\n### Semiconductor industry\\n### Niche and evolving uses\\n## Biological reactions\\n## Safety and precautions\\n## See also\\n## Notes\\n## References\\n## Further reading\\n## External links\\nThe retrieved page summary starts with:\\nFor other uses, see [Hydrogen (disambiguation)](/wiki/Hydrogen_\\\\(disambiguation\\\\) \"Hydrogen \\\\(disambiguation\\\\)\").\\n')\n",
      "INFO:answerbot.react:System('Reflect on the received information and plan next steps.')\n",
      "INFO:answerbot.react:Assistant('I need to find the atomic weight of hydrogen within the \\'Hydrogen\\' page. I should search for \"atomic weight,\" \"atomic mass,\" or look in the \\'Properties\\' section for this information.')\n"
     ]
    }
   ],
   "source": [
    "print(f\">>>LLM call number: {reactor.step}\")\n",
    "reactor.process_prompt()"
   ]
  },
  {
   "cell_type": "code",
   "execution_count": 6,
   "id": "d8b33872-7867-464b-9bbd-637d572755c9",
   "metadata": {},
   "outputs": [
    {
     "name": "stdout",
     "output_type": "stream",
     "text": [
      ">>>LLM call number: 4\n"
     ]
    },
    {
     "name": "stderr",
     "output_type": "stream",
     "text": [
      "INFO:answerbot.react:FunctionCall('lookup', 'To find the atomic weight of hydrogen to calculate the oxygen weight proportion in water.', keyword='atomic weight')\n",
      "INFO:answerbot.react:FunctionResult('lookup', 'Keyword \"atomic weight\" found  in: \\nFor other uses, see [Hydrogen (disambiguation)](/wiki/Hydrogen_\\\\(disambiguation\\\\) \"Hydrogen \\\\(disambiguation\\\\)\").\\n\\nChemical element, symbol H and atomic number 1\\n\\nHydrogen, 1H\\n\\nPurple glow in its plasma state  \\n  \\n---  \\nHydrogen  \\nAppearance| Colorless gas  \\n[Standard atomic weight](/wiki/Standard_atomic_weight \"Standard atomic weight\")  _A_ r°(H)  \\n| \\n\\n  * [1.00784, 1.00811]\\n  * 1.0080±0.0002 (abridged)[1]\\n\\n  \\n  \\nHydrogen in the [periodic table](/wiki/Periodic_table \"Periodic table\")  \\n|  | \\n\\n| Hydrogen |  | [Helium](/wiki/Helium \"Helium\")  \\n---|---|---  \\n[Lithium](/wiki/Lithium \"Lithium\") | [Beryllium](/wiki/Beryllium \"Beryllium\") |  | [Boron](/wiki/Boron \"Boron\") | [Carb')\n",
      "INFO:answerbot.react:System('Reflect on the received information and plan next steps.')\n",
      "INFO:answerbot.react:Assistant('With the standard atomic weight of hydrogen found as approximately 1.008, I will now search for the atomic weight of oxygen to calculate the proportion.')\n"
     ]
    }
   ],
   "source": [
    "print(f\">>>LLM call number: {reactor.step}\")\n",
    "reactor.process_prompt()"
   ]
  },
  {
   "cell_type": "code",
   "execution_count": 7,
   "id": "0c90b971-dd60-471f-b142-73d07aaa24b4",
   "metadata": {},
   "outputs": [
    {
     "name": "stdout",
     "output_type": "stream",
     "text": [
      ">>>LLM call number: 5\n"
     ]
    },
    {
     "name": "stderr",
     "output_type": "stream",
     "text": [
      "INFO:answerbot.react:FunctionCall('search', 'To find the atomic weight of oxygen to calculate the weight proportion of oxygen in water.', query='Atomic weight of oxygen')\n",
      "INFO:answerbot.react:FunctionResult('search', 'Wikipedia search results for query: \\'Atomic weight of oxygen\\' are: [[Equivalent weight]], [[Atomicity (chemistry)]], [[Isotopes of oxygen]], [[Relative atomic mass]], [[Edward W. Morley]], [[Atomic theory]], [[Commission on Isotopic Abundances and Atomic Weights]], [[Atomic mass]], [[Dalton (unit)]], [[Standard atomic weight]]\\nSuccessfully retrieved \\'Equivalent weight\\' from Wikipedia.\\nThe retrieved page contains the following sections:\\n## In history\\n## Use in general chemistry\\n## Use in volumetric analysis\\n## Use in gravimetric analysis\\n## Use in polymer chemistry\\n## References\\nThe retrieved page summary starts with:\\nMass of a given substance which will combine with or displace a fixed quantity of another substance\\n\\nIn [chemistry](/wiki/Chemistry \"Chemistry\"), **equivalent weight** (also known as _gram equivalent_[1] or _equivalent mass_ ) is the [mass](/wiki/Mass \"Mass\") of one [equivalent](/wiki/Equivalent_\\\\(chemistry\\\\) \"Equivalent \\\\(chemistry\\\\)\"), that is the mass of a given substance which will combine wit\\n')\n",
      "INFO:answerbot.react:System('In the next call you need to formulate an answer - please reflect on the received information.')\n",
      "INFO:answerbot.react:Assistant(\"The search has not provided the atomic weight of oxygen. Similar to the hydrogen search, I should find this information on the page specific to oxygen. I will request the 'Oxygen' Wikipedia page.\")\n"
     ]
    }
   ],
   "source": [
    "print(f\">>>LLM call number: {reactor.step}\")\n",
    "reactor.process_prompt()"
   ]
  },
  {
   "cell_type": "code",
   "execution_count": null,
   "id": "e954b37c-1df3-402b-8477-83ea8c2f31ca",
   "metadata": {},
   "outputs": [],
   "source": []
  },
  {
   "cell_type": "code",
   "execution_count": null,
   "id": "4e6a2284-b4cc-4b4d-ace6-8cef8834704e",
   "metadata": {},
   "outputs": [],
   "source": []
  }
 ],
 "metadata": {
  "kernelspec": {
   "display_name": "Python 3 (ipykernel)",
   "language": "python",
   "name": "python3"
  },
  "language_info": {
   "codemirror_mode": {
    "name": "ipython",
    "version": 3
   },
   "file_extension": ".py",
   "mimetype": "text/x-python",
   "name": "python",
   "nbconvert_exporter": "python",
   "pygments_lexer": "ipython3",
   "version": "3.10.12"
  }
 },
 "nbformat": 4,
 "nbformat_minor": 5
}
